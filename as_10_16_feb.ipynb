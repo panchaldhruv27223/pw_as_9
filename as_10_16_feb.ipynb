{
 "cells": [
  {
   "cell_type": "markdown",
   "metadata": {},
   "source": [
    "Q1. What is multiprocessing in python? Why is it useful?"
   ]
  },
  {
   "cell_type": "code",
   "execution_count": null,
   "metadata": {},
   "outputs": [],
   "source": [
    "#  multiprocessing means multiple process is run at the same time \n",
    "#  multiple processes run on one thread\n",
    "\n",
    "# it is very useful because it improve the system performance\n",
    "# it ustilize cpu(and other resorces) very well "
   ]
  },
  {
   "cell_type": "markdown",
   "metadata": {},
   "source": [
    "Q2. What are the differences between multiprocessing and multithreading?"
   ]
  },
  {
   "cell_type": "code",
   "execution_count": null,
   "metadata": {},
   "outputs": [],
   "source": [
    "multiprocessing and multithreading are both used to improve computing speed,use resorces in better way,reduse the delay\n",
    "\n",
    "to fast computing :\n",
    "    -multiprocessing use more number of core or more cpu to make fast computing\n",
    "    -in multithreading , multithreading make number of thread(2,4,5,6...) for one process for fast computing \n",
    "    \n",
    "- in multiprocessing multiple process are run simultaneously\n",
    "- in multithreading multiple thread of one process run simultaneously\n",
    "\n",
    "-every process have seprate address space  in multiprocessing\n",
    "-every thread have common address space(they share address space) of one process in multithreading"
   ]
  },
  {
   "cell_type": "markdown",
   "metadata": {},
   "source": [
    "Q3. Write a python code to create a process using the multiprocessing module."
   ]
  },
  {
   "cell_type": "code",
   "execution_count": 2,
   "metadata": {},
   "outputs": [
    {
     "name": "stdout",
     "output_type": "stream",
     "text": [
      "hello 0\n",
      "i am process\n"
     ]
    }
   ],
   "source": [
    "import multiprocessing\n",
    "\n",
    "\n",
    "def greeting():\n",
    "    count = 0 \n",
    "    print(\"hello\" , count)\n",
    "\n",
    "    \n",
    "if __name__ == \"__main__\":\n",
    "    m = multiprocessing.Process(target= greeting)\n",
    "    m.start()\n",
    "    m.join()\n",
    "    print(\"i am process\") "
   ]
  },
  {
   "cell_type": "markdown",
   "metadata": {},
   "source": [
    "Q4. What is a multiprocessing pool in python? Why is it used?"
   ]
  },
  {
   "cell_type": "code",
   "execution_count": null,
   "metadata": {},
   "outputs": [],
   "source": [
    "# multiprocessing pool we used for data parallelism\n",
    "# multiprocessing pool object is created when you only care about final result or return result. we don't control sub process\n",
    "# like this :"
   ]
  },
  {
   "cell_type": "code",
   "execution_count": 5,
   "metadata": {},
   "outputs": [
    {
     "name": "stdout",
     "output_type": "stream",
     "text": [
      "[1, 8, 27, 64, 125, 216, 343, 512]\n"
     ]
    }
   ],
   "source": [
    "import multiprocessing\n",
    "\n",
    "def cube(n) :\n",
    "    return n**3\n",
    "\n",
    "if __name__== \"__main__\":\n",
    "    with multiprocessing.Pool(processes=8) as pool:\n",
    "        op = pool.map(cube , [1,2,3,4,5,6,7,8])\n",
    "        print(op)\n",
    "        \n",
    "    pool.terminate()"
   ]
  },
  {
   "cell_type": "markdown",
   "metadata": {},
   "source": [
    "Q5. How can we create a pool of worker processes in python using the multiprocessing module?"
   ]
  },
  {
   "cell_type": "code",
   "execution_count": 11,
   "metadata": {},
   "outputs": [
    {
     "name": "stdout",
     "output_type": "stream",
     "text": [
      "i am a worker  1\n",
      "i am a worker  2\n",
      "i am a worker  3\n",
      "i am a worker  4\n",
      "i am a worker  5\n",
      "i am a worker  6\n",
      "i am a worker  7\n"
     ]
    }
   ],
   "source": [
    "def worker(x):\n",
    "    print(\"i am a worker \",x)\n",
    "    \n",
    "if __name__ == \"__main__\":\n",
    "    with multiprocessing.Pool(processes=1)as pool:\n",
    "        op = pool.map(worker,[1,2,3,4,5,6,7])\n",
    "    pool.close()"
   ]
  },
  {
   "cell_type": "code",
   "execution_count": 12,
   "metadata": {},
   "outputs": [
    {
     "name": "stdout",
     "output_type": "stream",
     "text": [
      "i am a worker i am a worker   12\n",
      "\n",
      "i am a worker i am a worker   43\n",
      "\n",
      "i am a worker i am a worker   56\n",
      "\n",
      "i am a worker  7\n"
     ]
    }
   ],
   "source": [
    "def worker(x):\n",
    "    print(\"i am a worker \",x)\n",
    "    \n",
    "if __name__ == \"__main__\":\n",
    "    with multiprocessing.Pool(processes=2)as pool:\n",
    "        op = pool.map(worker,[1,2,3,4,5,6,7])\n",
    "    pool.close()"
   ]
  },
  {
   "cell_type": "code",
   "execution_count": 13,
   "metadata": {},
   "outputs": [
    {
     "name": "stdout",
     "output_type": "stream",
     "text": [
      "i am a worker i am a worker i am a worker i am a worker i am a worker i am a worker i am a worker       4 23165\n",
      "7\n",
      "\n",
      "\n",
      "\n",
      "\n",
      "\n"
     ]
    }
   ],
   "source": [
    "def worker(x):\n",
    "    print(\"i am a worker \",x)\n",
    "    \n",
    "if __name__ == \"__main__\":\n",
    "    with multiprocessing.Pool(processes=7)as pool:\n",
    "        op = pool.map(worker,[1,2,3,4,5,6,7])\n",
    "    pool.close()"
   ]
  },
  {
   "cell_type": "markdown",
   "metadata": {},
   "source": [
    "Q6. Write a python program to create 4 processes, each process should print a different number using the\n",
    "multiprocessing module in python."
   ]
  },
  {
   "cell_type": "code",
   "execution_count": null,
   "metadata": {},
   "outputs": [],
   "source": [
    "import multiprocessing\n",
    "\n",
    "def number(n):\n",
    "    print(n)\n",
    "    \n",
    "if __name__==\"__main__\":\n",
    "    m1 = multiprocessing.Process(target=number, args=(1,))\n",
    "    m2 = multiprocessing.Process(target=number, args=(2,))    \n",
    "    m3 = multiprocessing.Process(target=number, args=(3,))  \n",
    "    m4 = multiprocessing.Process(target=number, args=(4,))    \n",
    "    m1.start()\n",
    "    m2.start()\n",
    "    m3.start()\n",
    "    m4.start()\n",
    "    m1.join()\n",
    "    m2.join()\n",
    "    m3.join()\n",
    "    m4.join()"
   ]
  },
  {
   "cell_type": "code",
   "execution_count": null,
   "metadata": {},
   "outputs": [],
   "source": []
  }
 ],
 "metadata": {
  "kernelspec": {
   "display_name": "Python 3 (ipykernel)",
   "language": "python",
   "name": "python3"
  },
  "language_info": {
   "codemirror_mode": {
    "name": "ipython",
    "version": 3
   },
   "file_extension": ".py",
   "mimetype": "text/x-python",
   "name": "python",
   "nbconvert_exporter": "python",
   "pygments_lexer": "ipython3",
   "version": "3.9.7"
  }
 },
 "nbformat": 4,
 "nbformat_minor": 4
}
